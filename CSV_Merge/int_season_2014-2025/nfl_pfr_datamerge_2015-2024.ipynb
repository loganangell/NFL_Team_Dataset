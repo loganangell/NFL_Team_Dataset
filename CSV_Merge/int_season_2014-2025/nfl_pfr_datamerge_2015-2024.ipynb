{
 "cells": [
  {
   "cell_type": "code",
   "execution_count": 1,
   "id": "68ea30a0",
   "metadata": {},
   "outputs": [],
   "source": [
    "# Import Python Libraries\n",
    "\n",
    "import numpy as np\n",
    "import pandas as pd\n",
    "import random\n",
    "import time"
   ]
  },
  {
   "cell_type": "code",
   "execution_count": 6,
   "id": "d9d24f8a",
   "metadata": {},
   "outputs": [],
   "source": [
    "# Load the Datasets\n",
    "nfl_df = pd.read_csv('../../CSV_NFL_Game_Data/2015-2024/nfl_gamelogs_2015-2024.csv')\n",
    "veg_df = pd.read_csv('../../CSV_NFL_Game_Data/2015-2024/nfl_vegas_lines_2015-2024.csv')"
   ]
  },
  {
   "cell_type": "code",
   "execution_count": 7,
   "id": "55293c96",
   "metadata": {},
   "outputs": [
    {
     "name": "stdout",
     "output_type": "stream",
     "text": [
      "(5246, 86)\n",
      "(5246, 6)\n"
     ]
    }
   ],
   "source": [
    "# Print the shapes of the two dataframs to ensure they contain the same number of rows\n",
    "print(nfl_df.shape)\n",
    "print(veg_df.shape)"
   ]
  },
  {
   "cell_type": "code",
   "execution_count": 8,
   "id": "8253e571",
   "metadata": {},
   "outputs": [
    {
     "name": "stdout",
     "output_type": "stream",
     "text": [
      "(5246, 89)\n"
     ]
    }
   ],
   "source": [
    "# Merge the datasets 'nfl_df' and 'veg_df' based on three columns (these columns form a unique 'key')\n",
    "merged_df = pd.merge(nfl_df, veg_df, on=['Season', 'Team', 'Gtm'])\n",
    "\n",
    "# Print the shape of the merged_df\n",
    "print(merged_df.shape)"
   ]
  },
  {
   "cell_type": "code",
   "execution_count": 11,
   "id": "b1bf7d04",
   "metadata": {},
   "outputs": [
    {
     "name": "stdout",
     "output_type": "stream",
     "text": [
      "<class 'pandas.core.frame.DataFrame'>\n",
      "RangeIndex: 5246 entries, 0 to 5245\n",
      "Data columns (total 91 columns):\n",
      " #   Column      Non-Null Count  Dtype  \n",
      "---  ------      --------------  -----  \n",
      " 0   Season      5246 non-null   int64  \n",
      " 1   Team        5246 non-null   object \n",
      " 2   Gtm         5246 non-null   float64\n",
      " 3   Week        5246 non-null   float64\n",
      " 4   Date        5246 non-null   object \n",
      " 5   Day         5246 non-null   object \n",
      " 6   Home        5246 non-null   int64  \n",
      " 7   Opp_x       5246 non-null   object \n",
      " 8   Win         5246 non-null   int64  \n",
      " 9   Tm_Pts      5246 non-null   int64  \n",
      " 10  PtsO        5246 non-null   int64  \n",
      " 11  OT          5246 non-null   int64  \n",
      " 12  Tm_pCmp     5246 non-null   int64  \n",
      " 13  Tm_pAtt     5246 non-null   int64  \n",
      " 14  Tm_pCmp%    5246 non-null   float64\n",
      " 15  Tm_pYds     5246 non-null   int64  \n",
      " 16  Tm_pTD      5246 non-null   int64  \n",
      " 17  Tm_pY/A     5246 non-null   float64\n",
      " 18  Tm_pAY/A    5246 non-null   float64\n",
      " 19  Tm_pRate    5246 non-null   float64\n",
      " 20  Tm_Sk       5246 non-null   int64  \n",
      " 21  Tm_SkYds    5246 non-null   int64  \n",
      " 22  Tm_rAtt     5246 non-null   int64  \n",
      " 23  Tm_rYds     5246 non-null   int64  \n",
      " 24  Tm_rTD      5246 non-null   int64  \n",
      " 25  Tm_rY/A     5246 non-null   float64\n",
      " 26  Tm_Ply      5246 non-null   int64  \n",
      " 27  Tm_Tot      5246 non-null   int64  \n",
      " 28  Tm_Y/P      5246 non-null   float64\n",
      " 29  Tm_FGA      5246 non-null   int64  \n",
      " 30  Tm_FGM      5246 non-null   int64  \n",
      " 31  Tm_XPA      5246 non-null   int64  \n",
      " 32  Tm_XPM      5246 non-null   int64  \n",
      " 33  Tm_Pnt      5246 non-null   int64  \n",
      " 34  Tm_PntYds   5246 non-null   int64  \n",
      " 35  Tm_fdPass   5246 non-null   int64  \n",
      " 36  Tm_fdRush   5246 non-null   int64  \n",
      " 37  Tm_fdPen    5246 non-null   int64  \n",
      " 38  Tm_1stD     5246 non-null   int64  \n",
      " 39  Tm_3DConv   5246 non-null   int64  \n",
      " 40  Tm_3DAtt    5246 non-null   int64  \n",
      " 41  Tm_4DConv   5246 non-null   int64  \n",
      " 42  Tm_4DAtt    5246 non-null   int64  \n",
      " 43  Tm_Pen      5246 non-null   int64  \n",
      " 44  Tm_PenYds   5246 non-null   int64  \n",
      " 45  Tm_FL       5246 non-null   int64  \n",
      " 46  Tm_Int      5246 non-null   int64  \n",
      " 47  Tm_TO       5246 non-null   int64  \n",
      " 48  Tm_ToP      5246 non-null   object \n",
      " 49  Opp_pCmp    5246 non-null   int64  \n",
      " 50  Opp_pAtt    5246 non-null   int64  \n",
      " 51  Opp_pCmp%   5246 non-null   float64\n",
      " 52  Opp_pYds    5246 non-null   int64  \n",
      " 53  Opp_pTD     5246 non-null   int64  \n",
      " 54  Opp_pY/A    5246 non-null   float64\n",
      " 55  Opp_pAY/A   5246 non-null   float64\n",
      " 56  Opp_pRate   5246 non-null   float64\n",
      " 57  Opp_Sk      5246 non-null   int64  \n",
      " 58  Opp_SkYds   5246 non-null   int64  \n",
      " 59  Opp_rAtt    5246 non-null   int64  \n",
      " 60  Opp_rYds    5246 non-null   int64  \n",
      " 61  Opp_rTD     5246 non-null   int64  \n",
      " 62  Opp_rY/A    5246 non-null   float64\n",
      " 63  Opp_Ply     5246 non-null   int64  \n",
      " 64  Opp_Tot     5246 non-null   int64  \n",
      " 65  Opp_Y/P     5246 non-null   float64\n",
      " 66  Opp_FGA     5246 non-null   int64  \n",
      " 67  Opp_FGM     5246 non-null   int64  \n",
      " 68  Opp_XPA     5246 non-null   int64  \n",
      " 69  Opp_XPM     5246 non-null   int64  \n",
      " 70  Opp_Pnt     5246 non-null   int64  \n",
      " 71  Opp_PntYds  5246 non-null   int64  \n",
      " 72  Opp_fdPass  5246 non-null   int64  \n",
      " 73  Opp_fdRush  5246 non-null   int64  \n",
      " 74  Opp_fdPen   5246 non-null   int64  \n",
      " 75  Opp_1stD    5246 non-null   int64  \n",
      " 76  Opp_3DConv  5246 non-null   int64  \n",
      " 77  Opp_3DAtt   5246 non-null   int64  \n",
      " 78  Opp_4DConv  5246 non-null   int64  \n",
      " 79  Opp_4DAtt   5246 non-null   int64  \n",
      " 80  Opp_Pen     5246 non-null   int64  \n",
      " 81  Opp_PenYds  5246 non-null   int64  \n",
      " 82  Opp_FL      5246 non-null   int64  \n",
      " 83  Opp_Int     5246 non-null   int64  \n",
      " 84  Opp_TO      5246 non-null   int64  \n",
      " 85  Opp_ToP     5246 non-null   object \n",
      " 86  Opp_y       5246 non-null   object \n",
      " 87  Spread      5246 non-null   float64\n",
      " 88  Total       5246 non-null   float64\n",
      " 89  Cover       5246 non-null   int64  \n",
      " 90  Over        5246 non-null   int64  \n",
      "dtypes: float64(16), int64(68), object(7)\n",
      "memory usage: 3.6+ MB\n",
      "None\n"
     ]
    }
   ],
   "source": [
    "# Create Cover and Over columns\n",
    "\n",
    "# Create Cover column (1 = cover, 0 = Not Cover or Push)\n",
    "merged_df['Cover'] = np.where(merged_df['Tm_Pts'] + merged_df['Spread'] > merged_df['PtsO'], 1, 0)\n",
    "\n",
    "# Create Over colunm (1 = over, 0 = under or push)\n",
    "merged_df['Over'] = np.where(merged_df['Tm_Pts'] + merged_df['PtsO'] > merged_df['Total'], 1, 0)\n",
    "\n",
    "# Display the info\n",
    "print(merged_df.info())"
   ]
  },
  {
   "cell_type": "code",
   "execution_count": 16,
   "id": "9bd97b67",
   "metadata": {},
   "outputs": [],
   "source": [
    "# Rename Opp_x to Opp\n",
    "nfl_df = nfl_df.rename(columns={'Opp_x':'Opp'})"
   ]
  },
  {
   "cell_type": "code",
   "execution_count": 17,
   "id": "b0d29310",
   "metadata": {},
   "outputs": [
    {
     "name": "stdout",
     "output_type": "stream",
     "text": [
      "      Season Team   Gtm  Week        Date  Day  Home Opp_x  Win  Tm_Pts  ...  \\\n",
      "4702    2024  CRD   1.0   1.0  2024-09-08  Sun     0   BUF    0      28  ...   \n",
      "4703    2024  CRD   2.0   2.0  2024-09-15  Sun     1   LAR    1      41  ...   \n",
      "4704    2024  CRD   3.0   3.0  2024-09-22  Sun     1   DET    0      13  ...   \n",
      "4705    2024  CRD   4.0   4.0  2024-09-29  Sun     1   WAS    0      14  ...   \n",
      "4706    2024  CRD   5.0   5.0  2024-10-06  Sun     0   SFO    1      24  ...   \n",
      "4707    2024  CRD   6.0   6.0  2024-10-13  Sun     0   GNB    0      13  ...   \n",
      "4708    2024  CRD   7.0   7.0  2024-10-21  Mon     1   LAC    1      17  ...   \n",
      "4709    2024  CRD   8.0   8.0  2024-10-27  Sun     0   MIA    1      28  ...   \n",
      "4710    2024  CRD   9.0   9.0  2024-11-03  Sun     1   CHI    1      29  ...   \n",
      "4711    2024  CRD  10.0  10.0  2024-11-10  Sun     1   NYJ    1      31  ...   \n",
      "4712    2024  CRD  11.0  12.0  2024-11-24  Sun     0   SEA    0       6  ...   \n",
      "4713    2024  CRD  12.0  13.0  2024-12-01  Sun     0   MIN    0      22  ...   \n",
      "4714    2024  CRD  13.0  14.0  2024-12-08  Sun     1   SEA    0      18  ...   \n",
      "4715    2024  CRD  14.0  15.0  2024-12-15  Sun     1   NWE    1      30  ...   \n",
      "4716    2024  CRD  15.0  16.0  2024-12-22  Sun     0   CAR    0      30  ...   \n",
      "4717    2024  CRD  16.0  17.0  2024-12-28  Sat     0   LAR    0       9  ...   \n",
      "4718    2024  CRD  17.0  18.0  2025-01-05  Sun     1   SFO    1      47  ...   \n",
      "\n",
      "      Opp_PenYds  Opp_FL  Opp_Int  Opp_TO  Opp_ToP  Opp_y  Spread  Total  \\\n",
      "4702          65       1        0       1    30:30   @BUF     6.5   46.5   \n",
      "4703          10       1        0       1    23:06    LAR     0.0   47.5   \n",
      "4704          79       0        1       1    36:49    DET     2.5   51.5   \n",
      "4705          49       0        1       1    33:22    WAS    -3.5   48.5   \n",
      "4706          21       1        2       3    32:58   @SFO     7.0   49.0   \n",
      "4707          40       0        1       1    36:35   @GNB     5.5   47.0   \n",
      "4708          57       2        0       2    34:14    LAC     1.0   44.5   \n",
      "4709          15       0        0       0    30:31   @MIA     4.0   46.0   \n",
      "4710          33       0        0       0    31:01    CHI    -1.5   44.5   \n",
      "4711          25       1        0       1    27:18    NYJ     1.5   46.5   \n",
      "4712          51       0        1       1    33:13   @SEA     0.0   47.0   \n",
      "4713          56       1        0       1    24:11   @MIN     3.5   44.5   \n",
      "4714          62       0        0       0    33:02    SEA    -2.5   44.5   \n",
      "4715          45       0        1       1    25:52    NWE    -6.0   46.5   \n",
      "4716          64       0        0       0    33:18   @CAR    -5.0   47.5   \n",
      "4717          46       0        0       0    23:05   @LAR     6.5   47.5   \n",
      "4718          85       1        2       3    31:51    SFO    -4.5   43.0   \n",
      "\n",
      "      Cover  Over  \n",
      "4702      1     1  \n",
      "4703      1     1  \n",
      "4704      0     0  \n",
      "4705      0     1  \n",
      "4706      1     0  \n",
      "4707      0     0  \n",
      "4708      1     0  \n",
      "4709      1     1  \n",
      "4710      1     0  \n",
      "4711      1     0  \n",
      "4712      0     0  \n",
      "4713      1     1  \n",
      "4714      0     1  \n",
      "4715      1     1  \n",
      "4716      0     1  \n",
      "4717      1     0  \n",
      "4718      1     1  \n",
      "\n",
      "[17 rows x 91 columns]\n"
     ]
    }
   ],
   "source": [
    "# Print an dexample to verify merge worked \n",
    "print(merged_df.query('Season == 2024 and Team == \"CRD\"'))"
   ]
  },
  {
   "cell_type": "code",
   "execution_count": 18,
   "id": "f45356d9",
   "metadata": {},
   "outputs": [],
   "source": [
    "# Save the merged dataset\n",
    "merged_df.to_csv('nfl_gamlogs_vegas_merged_2015.2024.csv', index=False)"
   ]
  }
 ],
 "metadata": {
  "kernelspec": {
   "display_name": "Python 3",
   "language": "python",
   "name": "python3"
  },
  "language_info": {
   "codemirror_mode": {
    "name": "ipython",
    "version": 3
   },
   "file_extension": ".py",
   "mimetype": "text/x-python",
   "name": "python",
   "nbconvert_exporter": "python",
   "pygments_lexer": "ipython3",
   "version": "3.13.7"
  }
 },
 "nbformat": 4,
 "nbformat_minor": 5
}
